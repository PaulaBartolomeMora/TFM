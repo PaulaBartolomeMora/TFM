{
 "cells": [
  {
   "cell_type": "code",
   "execution_count": 1,
   "metadata": {},
   "outputs": [
    {
     "name": "stdout",
     "output_type": "stream",
     "text": [
      "WARNING:tensorflow:From c:\\Users\\Paula\\AppData\\Local\\Programs\\Python\\Python39\\lib\\site-packages\\keras\\src\\losses.py:2976: The name tf.losses.sparse_softmax_cross_entropy is deprecated. Please use tf.compat.v1.losses.sparse_softmax_cross_entropy instead.\n",
      "\n"
     ]
    }
   ],
   "source": [
    "import numpy as np\n",
    "import pandas as pd\n",
    "import tensorflow as tf\n",
    "from tensorflow import keras\n",
    "from scikeras.wrappers import KerasClassifier\n",
    "\n",
    "import glob as gl\n",
    "import os\n",
    "\n",
    "from sklearn.preprocessing import StandardScaler, LabelEncoder\n",
    "from sklearn.model_selection import train_test_split\n",
    "from sklearn.metrics import confusion_matrix, accuracy_score\n",
    "from sklearn.model_selection import cross_val_score, GridSearchCV\n",
    "from sklearn.decomposition import PCA\n",
    "import matplotlib.pyplot as plt\n",
    "\n",
    "import time"
   ]
  },
  {
   "cell_type": "code",
   "execution_count": 2,
   "metadata": {},
   "outputs": [],
   "source": [
    "path = \"src/results\"\n",
    "\n",
    "\"\"\" datetime = \"/2011-03-24_15\"\n",
    "df = pd.read_csv(path + datetime + '.csv')  \"\"\"\n",
    "\n",
    "\n",
    "dfs = []\n",
    "\n",
    "for file in gl.glob(path + '/20*.csv'):\n",
    "    dfs.append(pd.read_csv(file))\n",
    "\n",
    "df = pd.concat(dfs, ignore_index=True)\n",
    "#df.count() #cada csv tiene 160920 filas"
   ]
  },
  {
   "cell_type": "markdown",
   "metadata": {},
   "source": [
    "## Label Encoder"
   ]
  },
  {
   "cell_type": "code",
   "execution_count": 3,
   "metadata": {},
   "outputs": [],
   "source": [
    "modelo = df.iloc[:, 8].values \n",
    "modelo = LabelEncoder().fit_transform(modelo) #codificación del modelo"
   ]
  },
  {
   "cell_type": "code",
   "execution_count": 4,
   "metadata": {},
   "outputs": [
    {
     "data": {
      "text/plain": [
       "Index(['cap', 'dist', 'origen_id', 'dest_id', 'len_origen_tag', 'len_dest_tag',\n",
       "       'criterion', 'degree', 'total_balance', 'abs_flux', 'h',\n",
       "       'Beam Irradiance (W/m2)', 'Diffuse Irradiance (W/m2)',\n",
       "       'Ambient Temperature (C)', 'Plane of Array Irradiance (W/m2)',\n",
       "       'Cell Temperature (C)', 'modelo'],\n",
       "      dtype='object')"
      ]
     },
     "execution_count": 4,
     "metadata": {},
     "output_type": "execute_result"
    }
   ],
   "source": [
    "df = df.drop(df.columns[8], axis=1) #se elimina la antigua con los strings del modelo\n",
    "df['modelo'] = modelo #se añade la nueva codificada al final\n",
    "\n",
    "X = df.iloc[:, 1:] \n",
    "X = X.drop(['datetime', 'timestamp', 'load', 'DC Array Output (W)' , 'Pavg', 'dif'], axis=1)\n",
    "y = df.iloc[:, 0].values #valores de overflow\n",
    "\n",
    "X.columns"
   ]
  },
  {
   "cell_type": "markdown",
   "metadata": {},
   "source": [
    "## Split"
   ]
  },
  {
   "cell_type": "code",
   "execution_count": 5,
   "metadata": {},
   "outputs": [],
   "source": [
    "X_train, X_test, y_train, y_test = train_test_split(X, y, test_size = 0.2, random_state = 0)\n",
    "\n",
    "sc = StandardScaler() #escalado de datos\n",
    "X_train = sc.fit_transform(X_train)\n",
    "X_test = sc.transform(X_test)"
   ]
  },
  {
   "cell_type": "markdown",
   "metadata": {},
   "source": [
    "## ANN"
   ]
  },
  {
   "cell_type": "code",
   "execution_count": 6,
   "metadata": {},
   "outputs": [
    {
     "name": "stdout",
     "output_type": "stream",
     "text": [
      "WARNING:tensorflow:From c:\\Users\\Paula\\AppData\\Local\\Programs\\Python\\Python39\\lib\\site-packages\\keras\\src\\backend.py:873: The name tf.get_default_graph is deprecated. Please use tf.compat.v1.get_default_graph instead.\n",
      "\n",
      "Model: \"sequential\"\n",
      "_________________________________________________________________\n",
      " Layer (type)                Output Shape              Param #   \n",
      "=================================================================\n",
      " dense (Dense)               (None, 5)                 90        \n",
      "                                                                 \n",
      " dense_1 (Dense)             (None, 5)                 30        \n",
      "                                                                 \n",
      " dense_2 (Dense)             (None, 1)                 6         \n",
      "                                                                 \n",
      "=================================================================\n",
      "Total params: 126 (504.00 Byte)\n",
      "Trainable params: 126 (504.00 Byte)\n",
      "Non-trainable params: 0 (0.00 Byte)\n",
      "_________________________________________________________________\n"
     ]
    }
   ],
   "source": [
    "def create_model():\n",
    "    model = keras.Sequential([\n",
    "        \n",
    "        #Adding the input layer and the first hidden layer\n",
    "        #se prueba con 6, los valores se obtienen probando o con alguna técnica como k Fold Cross Validation\n",
    "        keras.layers.Dense(5, input_shape=(X.shape[1],), activation='relu'), #nº de entradas\n",
    "        \n",
    "        #Adding the second hidden layer\n",
    "        #mismo valor que arriba\n",
    "        keras.layers.Dense(5, activation='relu'),\n",
    "        \n",
    "        #Adding the output layer -> 1 salida: 0 o 1\n",
    "        #*si no es salida binaria, se indica el número de posibles salidas y activation='softmax'\n",
    "        keras.layers.Dense(1, activation='sigmoid')\n",
    "    ]) \n",
    "\n",
    "    model.summary() #resumen de la estructura de la red neuronal\n",
    "    #los parámetros son los pesos\n",
    "\n",
    "    return model\n",
    "\n",
    "#model = KerasClassifier(build_fn=create_model)\n",
    "model = create_model()"
   ]
  },
  {
   "cell_type": "code",
   "execution_count": 7,
   "metadata": {},
   "outputs": [
    {
     "name": "stdout",
     "output_type": "stream",
     "text": [
      "WARNING:tensorflow:From c:\\Users\\Paula\\AppData\\Local\\Programs\\Python\\Python39\\lib\\site-packages\\keras\\src\\optimizers\\__init__.py:309: The name tf.train.Optimizer is deprecated. Please use tf.compat.v1.train.Optimizer instead.\n",
      "\n",
      "Epoch 1/100\n",
      "WARNING:tensorflow:From c:\\Users\\Paula\\AppData\\Local\\Programs\\Python\\Python39\\lib\\site-packages\\keras\\src\\utils\\tf_utils.py:492: The name tf.ragged.RaggedTensorValue is deprecated. Please use tf.compat.v1.ragged.RaggedTensorValue instead.\n",
      "\n",
      "WARNING:tensorflow:From c:\\Users\\Paula\\AppData\\Local\\Programs\\Python\\Python39\\lib\\site-packages\\keras\\src\\engine\\base_layer_utils.py:384: The name tf.executing_eagerly_outside_functions is deprecated. Please use tf.compat.v1.executing_eagerly_outside_functions instead.\n",
      "\n",
      "48276/48276 [==============================] - 111s 2ms/step - loss: 0.0828 - accuracy: 0.9765\n",
      "Epoch 2/100\n",
      "48276/48276 [==============================] - 119s 2ms/step - loss: 0.0731 - accuracy: 0.9769\n",
      "Epoch 3/100\n",
      "48276/48276 [==============================] - 112s 2ms/step - loss: 0.0724 - accuracy: 0.9780\n",
      "Epoch 4/100\n",
      "48276/48276 [==============================] - 100s 2ms/step - loss: 0.0721 - accuracy: 0.9782\n",
      "Epoch 5/100\n",
      "48276/48276 [==============================] - 102s 2ms/step - loss: 0.0718 - accuracy: 0.9783\n",
      "Epoch 6/100\n",
      "48276/48276 [==============================] - 101s 2ms/step - loss: 0.0716 - accuracy: 0.9784\n",
      "Epoch 7/100\n",
      "48276/48276 [==============================] - 93s 2ms/step - loss: 0.0714 - accuracy: 0.9785\n",
      "Epoch 8/100\n",
      "48276/48276 [==============================] - 89s 2ms/step - loss: 0.0713 - accuracy: 0.9785\n",
      "Epoch 9/100\n",
      "48276/48276 [==============================] - 89s 2ms/step - loss: 0.0712 - accuracy: 0.9785\n",
      "Epoch 10/100\n",
      "48276/48276 [==============================] - 89s 2ms/step - loss: 0.0711 - accuracy: 0.9785\n",
      "Epoch 11/100\n",
      "48276/48276 [==============================] - 90s 2ms/step - loss: 0.0710 - accuracy: 0.9785\n",
      "Epoch 12/100\n",
      "48276/48276 [==============================] - 92s 2ms/step - loss: 0.0709 - accuracy: 0.9786\n",
      "Epoch 13/100\n",
      "48276/48276 [==============================] - 89s 2ms/step - loss: 0.0708 - accuracy: 0.9786\n",
      "Epoch 14/100\n",
      "48276/48276 [==============================] - 88s 2ms/step - loss: 0.0708 - accuracy: 0.9785\n",
      "Epoch 15/100\n",
      "48276/48276 [==============================] - 89s 2ms/step - loss: 0.0707 - accuracy: 0.9786\n",
      "Epoch 16/100\n",
      "48276/48276 [==============================] - 89s 2ms/step - loss: 0.0707 - accuracy: 0.9785\n",
      "Epoch 17/100\n",
      "48276/48276 [==============================] - 89s 2ms/step - loss: 0.0706 - accuracy: 0.9786\n",
      "Epoch 18/100\n",
      "48276/48276 [==============================] - 90s 2ms/step - loss: 0.0706 - accuracy: 0.9786\n",
      "Epoch 19/100\n",
      "48276/48276 [==============================] - 88s 2ms/step - loss: 0.0705 - accuracy: 0.9786\n",
      "Epoch 20/100\n",
      "48276/48276 [==============================] - 90s 2ms/step - loss: 0.0705 - accuracy: 0.9786\n",
      "Epoch 21/100\n",
      "48276/48276 [==============================] - 91s 2ms/step - loss: 0.0705 - accuracy: 0.9786\n",
      "Epoch 22/100\n",
      "48276/48276 [==============================] - 90s 2ms/step - loss: 0.0704 - accuracy: 0.9786\n",
      "Epoch 23/100\n",
      "48276/48276 [==============================] - 88s 2ms/step - loss: 0.0704 - accuracy: 0.9786\n",
      "Epoch 24/100\n",
      "48276/48276 [==============================] - 90s 2ms/step - loss: 0.0704 - accuracy: 0.9786\n",
      "Epoch 25/100\n",
      "48276/48276 [==============================] - 106s 2ms/step - loss: 0.0703 - accuracy: 0.9786\n",
      "Epoch 26/100\n",
      "48276/48276 [==============================] - 106s 2ms/step - loss: 0.0703 - accuracy: 0.9786\n",
      "Epoch 27/100\n",
      "48276/48276 [==============================] - 104s 2ms/step - loss: 0.0703 - accuracy: 0.9786\n",
      "Epoch 28/100\n",
      "48276/48276 [==============================] - 121s 2ms/step - loss: 0.0702 - accuracy: 0.9786\n",
      "Epoch 29/100\n",
      "48276/48276 [==============================] - 121s 3ms/step - loss: 0.0702 - accuracy: 0.9786\n",
      "Epoch 30/100\n",
      "48276/48276 [==============================] - 109s 2ms/step - loss: 0.0702 - accuracy: 0.9785\n",
      "Epoch 31/100\n",
      "48276/48276 [==============================] - 99s 2ms/step - loss: 0.0701 - accuracy: 0.9785\n",
      "Epoch 32/100\n",
      "48276/48276 [==============================] - 95s 2ms/step - loss: 0.0701 - accuracy: 0.9785\n",
      "Epoch 33/100\n",
      "48276/48276 [==============================] - 96s 2ms/step - loss: 0.0700 - accuracy: 0.9786\n",
      "Epoch 34/100\n",
      "48276/48276 [==============================] - 96s 2ms/step - loss: 0.0699 - accuracy: 0.9786\n",
      "Epoch 35/100\n",
      "48276/48276 [==============================] - 98s 2ms/step - loss: 0.0699 - accuracy: 0.9786\n",
      "Epoch 36/100\n",
      "48276/48276 [==============================] - 90s 2ms/step - loss: 0.0699 - accuracy: 0.9786\n",
      "Epoch 37/100\n",
      "48276/48276 [==============================] - 100s 2ms/step - loss: 0.0699 - accuracy: 0.9786\n",
      "Epoch 38/100\n",
      "48276/48276 [==============================] - 112s 2ms/step - loss: 0.0699 - accuracy: 0.9785\n",
      "Epoch 39/100\n",
      "48276/48276 [==============================] - 119s 2ms/step - loss: 0.0699 - accuracy: 0.9785\n",
      "Epoch 40/100\n",
      "48276/48276 [==============================] - 103s 2ms/step - loss: 0.0698 - accuracy: 0.9786\n",
      "Epoch 41/100\n",
      "48276/48276 [==============================] - 92s 2ms/step - loss: 0.0698 - accuracy: 0.9785\n",
      "Epoch 42/100\n",
      "48276/48276 [==============================] - 89s 2ms/step - loss: 0.0698 - accuracy: 0.9785\n",
      "Epoch 43/100\n",
      "48276/48276 [==============================] - 115s 2ms/step - loss: 0.0698 - accuracy: 0.9786\n",
      "Epoch 44/100\n",
      "48276/48276 [==============================] - 111s 2ms/step - loss: 0.0698 - accuracy: 0.9785\n",
      "Epoch 45/100\n",
      "48276/48276 [==============================] - 98s 2ms/step - loss: 0.0698 - accuracy: 0.9785\n",
      "Epoch 46/100\n",
      "48276/48276 [==============================] - 99s 2ms/step - loss: 0.0698 - accuracy: 0.9786\n",
      "Epoch 47/100\n",
      "48276/48276 [==============================] - 108s 2ms/step - loss: 0.0697 - accuracy: 0.9785\n",
      "Epoch 48/100\n",
      "48276/48276 [==============================] - 118s 2ms/step - loss: 0.0697 - accuracy: 0.9785\n",
      "Epoch 49/100\n",
      "48276/48276 [==============================] - 138s 3ms/step - loss: 0.0697 - accuracy: 0.9785\n",
      "Epoch 50/100\n",
      "48276/48276 [==============================] - 113s 2ms/step - loss: 0.0697 - accuracy: 0.9786\n",
      "Epoch 51/100\n",
      "48276/48276 [==============================] - 103s 2ms/step - loss: 0.0697 - accuracy: 0.9785\n",
      "Epoch 52/100\n",
      "48276/48276 [==============================] - 103s 2ms/step - loss: 0.0697 - accuracy: 0.9785\n",
      "Epoch 53/100\n",
      "48276/48276 [==============================] - 104s 2ms/step - loss: 0.0697 - accuracy: 0.9785\n",
      "Epoch 54/100\n",
      "48276/48276 [==============================] - 104s 2ms/step - loss: 0.0697 - accuracy: 0.9786\n",
      "Epoch 55/100\n",
      "48276/48276 [==============================] - 107s 2ms/step - loss: 0.0696 - accuracy: 0.9785\n",
      "Epoch 56/100\n",
      "48276/48276 [==============================] - 105s 2ms/step - loss: 0.0696 - accuracy: 0.9785\n",
      "Epoch 57/100\n",
      "48276/48276 [==============================] - 106s 2ms/step - loss: 0.0696 - accuracy: 0.9785\n",
      "Epoch 58/100\n",
      "48276/48276 [==============================] - 109s 2ms/step - loss: 0.0696 - accuracy: 0.9785\n",
      "Epoch 59/100\n",
      "48276/48276 [==============================] - 107s 2ms/step - loss: 0.0696 - accuracy: 0.9785\n",
      "Epoch 60/100\n",
      "48276/48276 [==============================] - 103s 2ms/step - loss: 0.0696 - accuracy: 0.9785\n",
      "Epoch 61/100\n",
      "48276/48276 [==============================] - 101s 2ms/step - loss: 0.0696 - accuracy: 0.9785\n",
      "Epoch 62/100\n",
      "48276/48276 [==============================] - 101s 2ms/step - loss: 0.0696 - accuracy: 0.9785\n",
      "Epoch 63/100\n",
      "48276/48276 [==============================] - 103s 2ms/step - loss: 0.0696 - accuracy: 0.9785\n",
      "Epoch 64/100\n",
      "48276/48276 [==============================] - 103s 2ms/step - loss: 0.0696 - accuracy: 0.9785\n",
      "Epoch 65/100\n",
      "48276/48276 [==============================] - 102s 2ms/step - loss: 0.0696 - accuracy: 0.9785\n",
      "Epoch 66/100\n",
      "48276/48276 [==============================] - 102s 2ms/step - loss: 0.0696 - accuracy: 0.9785\n",
      "Epoch 67/100\n",
      "48276/48276 [==============================] - 104s 2ms/step - loss: 0.0696 - accuracy: 0.9785\n",
      "Epoch 68/100\n",
      "48276/48276 [==============================] - 105s 2ms/step - loss: 0.0696 - accuracy: 0.9785\n",
      "Epoch 69/100\n",
      "48276/48276 [==============================] - 105s 2ms/step - loss: 0.0695 - accuracy: 0.9785\n",
      "Epoch 70/100\n",
      "48276/48276 [==============================] - 105s 2ms/step - loss: 0.0696 - accuracy: 0.9785\n",
      "Epoch 71/100\n",
      "48276/48276 [==============================] - 107s 2ms/step - loss: 0.0695 - accuracy: 0.9785\n",
      "Epoch 72/100\n",
      "48276/48276 [==============================] - 105s 2ms/step - loss: 0.0695 - accuracy: 0.9785\n",
      "Epoch 73/100\n",
      "48276/48276 [==============================] - 106s 2ms/step - loss: 0.0695 - accuracy: 0.9785\n",
      "Epoch 74/100\n",
      "48276/48276 [==============================] - 105s 2ms/step - loss: 0.0695 - accuracy: 0.9785\n",
      "Epoch 75/100\n",
      "48276/48276 [==============================] - 109s 2ms/step - loss: 0.0696 - accuracy: 0.9786\n",
      "Epoch 76/100\n",
      "48276/48276 [==============================] - 104s 2ms/step - loss: 0.0695 - accuracy: 0.9785\n",
      "Epoch 77/100\n",
      "48276/48276 [==============================] - 103s 2ms/step - loss: 0.0695 - accuracy: 0.9785\n",
      "Epoch 78/100\n",
      "48276/48276 [==============================] - 102s 2ms/step - loss: 0.0695 - accuracy: 0.9785\n",
      "Epoch 79/100\n",
      "48276/48276 [==============================] - 105s 2ms/step - loss: 0.0695 - accuracy: 0.9785\n",
      "Epoch 80/100\n",
      "48276/48276 [==============================] - 103s 2ms/step - loss: 0.0695 - accuracy: 0.9785\n",
      "Epoch 81/100\n",
      "48276/48276 [==============================] - 106s 2ms/step - loss: 0.0695 - accuracy: 0.9785\n",
      "Epoch 82/100\n",
      "48276/48276 [==============================] - 106s 2ms/step - loss: 0.0695 - accuracy: 0.9785\n",
      "Epoch 83/100\n",
      "48276/48276 [==============================] - 105s 2ms/step - loss: 0.0695 - accuracy: 0.9785\n",
      "Epoch 84/100\n",
      "48276/48276 [==============================] - 104s 2ms/step - loss: 0.0695 - accuracy: 0.9785\n",
      "Epoch 85/100\n",
      "48276/48276 [==============================] - 105s 2ms/step - loss: 0.0695 - accuracy: 0.9785\n",
      "Epoch 86/100\n",
      "48276/48276 [==============================] - 105s 2ms/step - loss: 0.0695 - accuracy: 0.9785\n",
      "Epoch 87/100\n",
      "48276/48276 [==============================] - 106s 2ms/step - loss: 0.0695 - accuracy: 0.9785\n",
      "Epoch 88/100\n",
      "48276/48276 [==============================] - 108s 2ms/step - loss: 0.0695 - accuracy: 0.9785\n",
      "Epoch 89/100\n",
      "48276/48276 [==============================] - 108s 2ms/step - loss: 0.0695 - accuracy: 0.9786\n",
      "Epoch 90/100\n",
      "48276/48276 [==============================] - 105s 2ms/step - loss: 0.0695 - accuracy: 0.9785\n",
      "Epoch 91/100\n",
      "48276/48276 [==============================] - 105s 2ms/step - loss: 0.0695 - accuracy: 0.9785\n",
      "Epoch 92/100\n",
      "48276/48276 [==============================] - 105s 2ms/step - loss: 0.0695 - accuracy: 0.9785\n",
      "Epoch 93/100\n",
      "48276/48276 [==============================] - 105s 2ms/step - loss: 0.0695 - accuracy: 0.9785\n",
      "Epoch 94/100\n",
      "48276/48276 [==============================] - 106s 2ms/step - loss: 0.0695 - accuracy: 0.9785\n",
      "Epoch 95/100\n",
      "48276/48276 [==============================] - 105s 2ms/step - loss: 0.0695 - accuracy: 0.9785\n",
      "Epoch 96/100\n",
      "48276/48276 [==============================] - 107s 2ms/step - loss: 0.0695 - accuracy: 0.9786\n",
      "Epoch 97/100\n",
      "48276/48276 [==============================] - 106s 2ms/step - loss: 0.0695 - accuracy: 0.9785\n",
      "Epoch 98/100\n",
      "48276/48276 [==============================] - 105s 2ms/step - loss: 0.0695 - accuracy: 0.9785\n",
      "Epoch 99/100\n",
      "48276/48276 [==============================] - 104s 2ms/step - loss: 0.0695 - accuracy: 0.9785\n",
      "Epoch 100/100\n",
      "48276/48276 [==============================] - 106s 2ms/step - loss: 0.0695 - accuracy: 0.9785\n"
     ]
    }
   ],
   "source": [
    "#binary_crossentropy -> clasificación binaria (si/no)\n",
    "#*si no es salida binaria, se aplica categorical_crossentropy o sparse_categorical_crossentropy\n",
    "\n",
    "inicl = time.time()\n",
    "model.compile(optimizer = 'sgd', loss = 'binary_crossentropy', metrics = ['accuracy'])\n",
    "#History = model.fit(X_train, y_train, batch_size = 50, epochs = 8) #loss: 0.0686 - accuracy: 0.9789\n",
    "History = model.fit(X_train, y_train, epochs = 100)\n",
    "History = model.fit(X_train, y_train, epochs=100, verbose=1, \n",
    "                            callbacks=[keras.callbacks.EarlyStopping(monitor='val_loss', patience=5, verbose=1)])\n",
    "fincl = time.time()\n",
    "\n",
    "#94 min\n",
    "# Epoch 55/55\n",
    "#48276/48276 [==============================] - 104s 2ms/step - loss: 0.0501 - accuracy: 0.9829\n",
    "#174 min\n",
    "#Epoch 100/100\n",
    "#48276/48276 [==============================] - 104s 2ms/step - loss: 0.0441 - accuracy: 0.9848"
   ]
  },
  {
   "cell_type": "code",
   "execution_count": 12,
   "metadata": {},
   "outputs": [
    {
     "data": {
      "image/png": "[encoded data removed]",
      "text/plain": [
       "<Figure size 1200x600 with 1 Axes>"
      ]
     },
     "metadata": {},
     "output_type": "display_data"
    }
   ],
   "source": [
    "plt.figure(figsize=(12, 6))\n",
    "plt.plot(History.history['loss'])\n",
    "plt.title('Evolución de la función de pérdidas')\n",
    "plt.ylabel('Pérdidas')\n",
    "plt.xlabel('Epochs')\n",
    "plt.grid(True)\n",
    "plt.show()"
   ]
  },
  {
   "cell_type": "code",
   "execution_count": 9,
   "metadata": {},
   "outputs": [
    {
     "data": {
      "image/png": "[encoded data removed]",
      "text/plain": [
       "<Figure size 1200x600 with 1 Axes>"
      ]
     },
     "metadata": {},
     "output_type": "display_data"
    }
   ],
   "source": [
    "plt.figure(figsize=(12, 6))\n",
    "plt.plot(History.history['accuracy'])\n",
    "plt.title('Evolución de la precisión')\n",
    "plt.ylabel('Precisión')\n",
    "plt.xlabel('Epochs')\n",
    "plt.grid(True)\n",
    "plt.show()"
   ]
  },
  {
   "cell_type": "code",
   "execution_count": 10,
   "metadata": {},
   "outputs": [
    {
     "name": "stdout",
     "output_type": "stream",
     "text": [
      "12069/12069 [==============================] - 23s 1ms/step - loss: 0.0690 - accuracy: 0.9785\n"
     ]
    }
   ],
   "source": [
    "#se obtienen las pérdidas y la precisión del modelo\n",
    "test_loss, test_accuracy = model.evaluate(X_test, y_test)\n",
    "#si la precisión obtenida aquí es mucho menor que la de las épocas, se está sobreentrenando el modelo\n",
    "\n",
    "#(7,7,1) 50 epochs, 20 epochs\n",
    "#loss: 0.0685 - accuracy: 0.9789 \n",
    "#loss: 0.0689 - accuracy: 0.9786 \n",
    "\n",
    "#(5,5)\n",
    "#loss: 0.0690 - accuracy: 0.9785"
   ]
  },
  {
   "cell_type": "markdown",
   "metadata": {},
   "source": [
    "## Evaluación"
   ]
  },
  {
   "cell_type": "markdown",
   "metadata": {},
   "source": [
    "### Matriz de confusión"
   ]
  },
  {
   "cell_type": "code",
   "execution_count": 11,
   "metadata": {},
   "outputs": [
    {
     "name": "stdout",
     "output_type": "stream",
     "text": [
      "12069/12069 [==============================] - 16s 1ms/step\n",
      "[[376674    470]\n",
      " [  7842   1222]]\n"
     ]
    },
    {
     "data": {
      "text/plain": [
       "0.9784779186345182"
      ]
     },
     "execution_count": 11,
     "metadata": {},
     "output_type": "execute_result"
    }
   ],
   "source": [
    "y_pred = model.predict(X_test)\n",
    "y_pred = (y_pred > 0.5)\n",
    "cm = confusion_matrix(y_test, y_pred)\n",
    "print(cm)\n",
    "accuracy_score(y_test, y_pred)\n",
    "\n",
    "#(7,7,1) 50 epochs, 20 epochs\n",
    "#[[376455    689] [  7515   1549]] 0.9787575606926837\n",
    "#[[376312    837] [  7318   1741]] 0.9789 \n",
    "\n",
    "#(5,5)\n",
    "#[[376674    470] [  7842   1222]] 0.9784779186345182"
   ]
  },
  {
   "cell_type": "markdown",
   "metadata": {},
   "source": [
    "## Grid Search"
   ]
  },
  {
   "cell_type": "code",
   "execution_count": null,
   "metadata": {},
   "outputs": [],
   "source": [
    "parameters = {\n",
    "    'hidden_layer_sizes': [(5,5,1), (6,6,1), (7,7,1), (8,8,1)],\n",
    "    'activation': ['sigmoid', 'tanh','relu'],\n",
    "}\n",
    "\n",
    "processors = 32\n",
    "cv = 5 \n",
    "combos = 1\n",
    "\n",
    "for i in parameters:\n",
    "    for j in i.values():\n",
    "        combos *= len(j)\n",
    "\n",
    "num_models = combos * cv / processors \n",
    "seconds = num_models * (fincl-inicl)\n",
    "minutes = seconds / 60\n",
    "hours = minutes / 60\n",
    "\n",
    "print(\"{:.6f}\".format(hours), \"| {:.6f}\".format(minutes), \"| {:.6f}\".format(seconds)) #81.85seg (7,7,1)"
   ]
  },
  {
   "cell_type": "code",
   "execution_count": null,
   "metadata": {},
   "outputs": [],
   "source": [
    "inigs = time.time()\n",
    "\n",
    "model_gs = KerasClassifier(build_fn=create_model)\n",
    "\n",
    "grid_search = GridSearchCV(estimator = model_gs,\n",
    "                           param_grid = parameters,\n",
    "                           scoring = 'accuracy',\n",
    "                           cv = 5,\n",
    "                           n_jobs = 1)\n",
    "\n",
    "grid_search.fit(X_train, y_train)\n",
    "\n",
    "fings = time.time()\n",
    "\n",
    "best_accuracy = grid_search.best_score_\n",
    "best_parameters = grid_search.best_params_\n",
    "print(\"Best Accuracy: {:.2f} %\".format(best_accuracy*100))\n",
    "print(\"Best Parameters:\", best_parameters)\n",
    "print(\"Tiempo ejecución grid search: \" + str(fings-inigs))\n",
    "\n",
    "\n",
    "########\n",
    "#Best Accuracy: 98.20 %\n",
    "#Best Parameters: {'activation': 'tanh', 'hidden_layer_sizes': (7, 7, 1), 'learning_rate': 'constant', 'solver': 'adam'} \"\"\""
   ]
  }
 ],
 "metadata": {
  "kernelspec": {
   "display_name": "Python 3",
   "language": "python",
   "name": "python3"
  },
  "language_info": {
   "codemirror_mode": {
    "name": "ipython",
    "version": 3
   },
   "file_extension": ".py",
   "mimetype": "text/x-python",
   "name": "python",
   "nbconvert_exporter": "python",
   "pygments_lexer": "ipython3",
   "version": "3.9.5"
  }
 },
 "nbformat": 4,
 "nbformat_minor": 2
}

{
 "cells": [
  {
   "cell_type": "code",
   "execution_count": 27,
   "metadata": {},
   "outputs": [],
   "source": [
    "import numpy as np\n",
    "import pandas as pd\n",
    "import tensorflow as tf\n",
    "from tensorflow import keras \n",
    "import glob as gl\n",
    "import os"
   ]
  },
  {
   "cell_type": "code",
   "execution_count": 28,
   "metadata": {},
   "outputs": [],
   "source": [
    "path = \"src/results\"\n",
    "\n",
    "\"\"\" datetime = \"/2011-03-24_15\"\n",
    "df = pd.read_csv(path + datetime + '.csv')  \"\"\"\n",
    "\n",
    "\n",
    "dfs = []\n",
    "\n",
    "for file in gl.glob(path + '/20*.csv'):\n",
    "    dfs.append(pd.read_csv(file))\n",
    "\n",
    "df = pd.concat(dfs, ignore_index=True)\n",
    "#df.count() #cada csv tiene 160920 filas"
   ]
  },
  {
   "cell_type": "markdown",
   "metadata": {},
   "source": [
    "## Encoder"
   ]
  },
  {
   "cell_type": "code",
   "execution_count": 29,
   "metadata": {},
   "outputs": [],
   "source": [
    "modelo = df.iloc[:, 8].values \n",
    "from sklearn.preprocessing import LabelEncoder\n",
    "modelo = LabelEncoder().fit_transform(modelo) #codificación del modelo"
   ]
  },
  {
   "cell_type": "code",
   "execution_count": 30,
   "metadata": {},
   "outputs": [
    {
     "data": {
      "text/plain": [
       "Index(['cap', 'dist', 'origen_id', 'dest_id', 'len_origen_tag', 'len_dest_tag',\n",
       "       'criterion', 'degree', 'total_balance', 'abs_flux', 'h',\n",
       "       'Beam Irradiance (W/m2)', 'Diffuse Irradiance (W/m2)',\n",
       "       'Ambient Temperature (C)', 'Plane of Array Irradiance (W/m2)',\n",
       "       'Cell Temperature (C)', 'modelo'],\n",
       "      dtype='object')"
      ]
     },
     "execution_count": 30,
     "metadata": {},
     "output_type": "execute_result"
    }
   ],
   "source": [
    "df = df.drop(df.columns[8], axis=1) #se elimina la antigua con los strings del modelo\n",
    "df['modelo'] = modelo #se añade la nueva codificada al final\n",
    "\n",
    "X = df.iloc[:, 1:] \n",
    "X = X.drop(['datetime', 'timestamp', 'load', 'DC Array Output (W)' , 'Pavg', 'dif'], axis=1)\n",
    "y = df.iloc[:, 0].values #valores de overflow\n",
    "\n",
    "X.columns"
   ]
  },
  {
   "cell_type": "markdown",
   "metadata": {},
   "source": [
    "## ANN Model"
   ]
  },
  {
   "cell_type": "code",
   "execution_count": 31,
   "metadata": {},
   "outputs": [],
   "source": [
    "from sklearn.model_selection import train_test_split\n",
    "X_train, X_test, y_train, y_test = train_test_split(X, y, test_size = 0.2, random_state = 0)"
   ]
  },
  {
   "cell_type": "code",
   "execution_count": 32,
   "metadata": {},
   "outputs": [],
   "source": [
    "from sklearn.preprocessing import StandardScaler\n",
    "sc = StandardScaler() #escalado de datos\n",
    "X_train = sc.fit_transform(X_train)\n",
    "X_test = sc.transform(X_test)"
   ]
  },
  {
   "cell_type": "code",
   "execution_count": 33,
   "metadata": {},
   "outputs": [
    {
     "name": "stdout",
     "output_type": "stream",
     "text": [
      "Model: \"sequential_2\"\n",
      "_________________________________________________________________\n",
      " Layer (type)                Output Shape              Param #   \n",
      "=================================================================\n",
      " dense_6 (Dense)             (None, 7)                 126       \n",
      "                                                                 \n",
      " dense_7 (Dense)             (None, 7)                 56        \n",
      "                                                                 \n",
      " dense_8 (Dense)             (None, 1)                 8         \n",
      "                                                                 \n",
      "=================================================================\n",
      "Total params: 190 (760.00 Byte)\n",
      "Trainable params: 190 (760.00 Byte)\n",
      "Non-trainable params: 0 (0.00 Byte)\n",
      "_________________________________________________________________\n"
     ]
    }
   ],
   "source": [
    "\"\"\" model = keras.Sequential([\n",
    "    \n",
    "    #Adding the input layer and the first hidden layer\n",
    "    #se prueba con 6, los valores se obtienen probando o con alguna técnica como k Fold Cross Validation\n",
    "    keras.layers.Dense(6, input_shape=(X.shape[1],), activation='relu'), #nº de entradas\n",
    "    \n",
    "    #Adding the second hidden layer\n",
    "    #mismo valor que arriba\n",
    "    keras.layers.Dense(6, activation='relu'),\n",
    "    \n",
    "    #Adding the output layer -> 1 salida: 0 o 1\n",
    "    #*si no es salida binaria, se indica el número de posibles salidas y activation='softmax'\n",
    "    keras.layers.Dense(1, activation='sigmoid')\n",
    "]) \"\"\"\n",
    "\n",
    "model = keras.Sequential([\n",
    "    \n",
    "    #Adding the input layer and the first hidden layer\n",
    "    #se prueba con 6, los valores se obtienen probando o con alguna técnica como k Fold Cross Validation\n",
    "    keras.layers.Dense(7, input_shape=(X.shape[1],), activation='tanh'), #nº de entradas\n",
    "    \n",
    "    #Adding the second hidden layer\n",
    "    #mismo valor que arriba\n",
    "    keras.layers.Dense(7, activation='tanh'),\n",
    "    \n",
    "    #Adding the output layer -> 1 salida: 0 o 1\n",
    "    #*si no es salida binaria, se indica el número de posibles salidas y activation='softmax'\n",
    "    keras.layers.Dense(1, activation='sigmoid')\n",
    "])\n",
    "\n",
    "model.summary() #resumen de la estructura de la red neuronal\n",
    "#los parámetros son los pesos"
   ]
  },
  {
   "cell_type": "code",
   "execution_count": 34,
   "metadata": {},
   "outputs": [
    {
     "name": "stdout",
     "output_type": "stream",
     "text": [
      "Epoch 1/20\n",
      "3863/3863 [==============================] - 19s 2ms/step - loss: 0.0939 - accuracy: 0.9731\n",
      "Epoch 2/20\n",
      "3863/3863 [==============================] - 9s 2ms/step - loss: 0.0613 - accuracy: 0.9815\n",
      "Epoch 3/20\n",
      "3863/3863 [==============================] - 13s 3ms/step - loss: 0.0606 - accuracy: 0.9816\n",
      "Epoch 4/20\n",
      "3863/3863 [==============================] - 12s 3ms/step - loss: 0.0604 - accuracy: 0.9816\n",
      "Epoch 5/20\n",
      "3863/3863 [==============================] - 14s 4ms/step - loss: 0.0602 - accuracy: 0.9817\n",
      "Epoch 6/20\n",
      "3863/3863 [==============================] - 11s 3ms/step - loss: 0.0600 - accuracy: 0.9816\n",
      "Epoch 7/20\n",
      "3863/3863 [==============================] - 10s 3ms/step - loss: 0.0599 - accuracy: 0.9816\n",
      "Epoch 8/20\n",
      "3863/3863 [==============================] - 11s 3ms/step - loss: 0.0598 - accuracy: 0.9817\n",
      "Epoch 9/20\n",
      "3863/3863 [==============================] - 10s 3ms/step - loss: 0.0596 - accuracy: 0.9817\n",
      "Epoch 10/20\n",
      "3863/3863 [==============================] - 10s 3ms/step - loss: 0.0595 - accuracy: 0.9817\n",
      "Epoch 11/20\n",
      "3863/3863 [==============================] - 10s 3ms/step - loss: 0.0593 - accuracy: 0.9818\n",
      "Epoch 12/20\n",
      "3863/3863 [==============================] - 10s 3ms/step - loss: 0.0592 - accuracy: 0.9818\n",
      "Epoch 13/20\n",
      "3863/3863 [==============================] - 10s 3ms/step - loss: 0.0592 - accuracy: 0.9817\n",
      "Epoch 14/20\n",
      "3863/3863 [==============================] - 11s 3ms/step - loss: 0.0591 - accuracy: 0.9817\n",
      "Epoch 15/20\n",
      "3863/3863 [==============================] - 11s 3ms/step - loss: 0.0590 - accuracy: 0.9817\n",
      "Epoch 16/20\n",
      "3863/3863 [==============================] - 12s 3ms/step - loss: 0.0589 - accuracy: 0.9818\n",
      "Epoch 17/20\n",
      "3863/3863 [==============================] - 12s 3ms/step - loss: 0.0589 - accuracy: 0.9818\n",
      "Epoch 18/20\n",
      "3863/3863 [==============================] - 12s 3ms/step - loss: 0.0588 - accuracy: 0.9819\n",
      "Epoch 19/20\n",
      "3863/3863 [==============================] - 12s 3ms/step - loss: 0.0588 - accuracy: 0.9818\n",
      "Epoch 20/20\n",
      "3863/3863 [==============================] - 12s 3ms/step - loss: 0.0587 - accuracy: 0.9819\n"
     ]
    },
    {
     "data": {
      "text/plain": [
       "<keras.src.callbacks.History at 0x15c823895b0>"
      ]
     },
     "execution_count": 34,
     "metadata": {},
     "output_type": "execute_result"
    }
   ],
   "source": [
    "#binary_crossentropy -> clasificación binaria (si/no)\n",
    "#*si no es salida binaria, se aplica categorical_crossentropy o sparse_categorical_crossentropy\n",
    "model.compile(optimizer = 'adam', loss = 'binary_crossentropy', metrics = ['accuracy'])\n",
    "model.fit(X_train, y_train, batch_size = 100, epochs = 20)"
   ]
  },
  {
   "cell_type": "code",
   "execution_count": 35,
   "metadata": {},
   "outputs": [
    {
     "name": "stdout",
     "output_type": "stream",
     "text": [
      "3018/3018 [==============================] - 7s 2ms/step - loss: 0.0582 - accuracy: 0.9823\n"
     ]
    }
   ],
   "source": [
    "#se obtienen las pérdidas y la precisión del modelo\n",
    "test_loss, test_accuracy = model.evaluate(X_test, y_test)\n",
    "#si la precisión obtenida aquí es mucho menor que la de las épocas, se está sobreentrenando el modelo\n",
    "\n",
    "#loss: 0.0591 - accuracy: 0.9820 -> ANN1"
   ]
  },
  {
   "cell_type": "code",
   "execution_count": 36,
   "metadata": {},
   "outputs": [
    {
     "name": "stdout",
     "output_type": "stream",
     "text": [
      "3018/3018 [==============================] - 6s 2ms/step\n",
      "[[0 0]\n",
      " [0 1]\n",
      " [0 0]\n",
      " ...\n",
      " [0 0]\n",
      " [0 0]\n",
      " [0 0]]\n"
     ]
    }
   ],
   "source": [
    "y_pred = model.predict(X_test)\n",
    "y_pred = (y_pred > 0.5)\n",
    "\n",
    "#comparación entre las predicciones y el test\n",
    "print(np.concatenate((y_pred.reshape(len(y_pred),1), y_test.reshape(len(y_test),1)),1))"
   ]
  },
  {
   "cell_type": "markdown",
   "metadata": {},
   "source": [
    "## Evaluation"
   ]
  },
  {
   "cell_type": "markdown",
   "metadata": {},
   "source": [
    "### Confussion Matrix"
   ]
  },
  {
   "cell_type": "code",
   "execution_count": 37,
   "metadata": {},
   "outputs": [
    {
     "name": "stdout",
     "output_type": "stream",
     "text": [
      "[[94436   249]\n",
      " [ 1461   406]]\n"
     ]
    },
    {
     "data": {
      "text/plain": [
       "0.982289336316182"
      ]
     },
     "execution_count": 37,
     "metadata": {},
     "output_type": "execute_result"
    }
   ],
   "source": [
    "from sklearn.metrics import confusion_matrix, accuracy_score\n",
    "cm = confusion_matrix(y_test, y_pred)\n",
    "print(cm)\n",
    "accuracy_score(y_test, y_pred)"
   ]
  },
  {
   "cell_type": "markdown",
   "metadata": {},
   "source": [
    "### K-Fold"
   ]
  },
  {
   "cell_type": "code",
   "execution_count": 38,
   "metadata": {},
   "outputs": [
    {
     "data": {
      "text/plain": [
       "' from sklearn.model_selection import cross_val_score\\n\\naccuracies = cross_val_score(estimator = model, X = X_train, y = y_train, cv = 10) #se añade el clasificador o modelo, cv = K\\nprint(\"Accuracy: {:.2f} %\".format(accuracies.mean()*100))\\nprint(\"Standard Deviation: {:.2f} %\".format(accuracies.std()*100)) '"
      ]
     },
     "execution_count": 38,
     "metadata": {},
     "output_type": "execute_result"
    }
   ],
   "source": [
    "\"\"\" from sklearn.model_selection import cross_val_score\n",
    "\n",
    "accuracies = cross_val_score(estimator = model, X = X_train, y = y_train, cv = 10) #se añade el clasificador o modelo, cv = K\n",
    "print(\"Accuracy: {:.2f} %\".format(accuracies.mean()*100))\n",
    "print(\"Standard Deviation: {:.2f} %\".format(accuracies.std()*100)) \"\"\""
   ]
  },
  {
   "cell_type": "markdown",
   "metadata": {},
   "source": [
    "## Grid Search"
   ]
  },
  {
   "cell_type": "code",
   "execution_count": 39,
   "metadata": {},
   "outputs": [
    {
     "data": {
      "text/plain": [
       "' from sklearn.model_selection import GridSearchCV\\nfrom sklearn.neural_network import MLPClassifier\\n\\nparameters = {\\n    \\'hidden_layer_sizes\\': [(5,5,1), (6,6,1), (7,7,1), (8,8,1)],\\n    \\'activation\\': [\\'logistic\\', \\'tanh\\',\\'relu\\'],\\n    \\'solver\\': [\\'lbfgs\\', \\'sgd\\',\\'adam\\'],\\n    #\\'batch_size\\': [25, 50, 75, 100],\\n    #\\'epochs\\': [10, 20, 30],\\n    \\'learning_rate\\': [\\'constant\\',\\'adaptive\\'],\\n}\\n\\ngrid_search = GridSearchCV(MLPClassifier(max_iter=100), parameters, n_jobs=-1, cv=10, scoring = \\'accuracy\\')\\ngrid_search.fit(X_train, y_train)\\n\\nbest_accuracy = grid_search.best_score_\\nbest_parameters = grid_search.best_params_\\nprint(\"Best Accuracy: {:.2f} %\".format(best_accuracy*100))\\nprint(\"Best Parameters:\", best_parameters)\\n\\n\\n########\\nBest Accuracy: 98.20 %\\nBest Parameters: {\\'activation\\': \\'tanh\\', \\'hidden_layer_sizes\\': (7, 7, 1), \\'learning_rate\\': \\'constant\\', \\'solver\\': \\'adam\\'} '"
      ]
     },
     "execution_count": 39,
     "metadata": {},
     "output_type": "execute_result"
    }
   ],
   "source": [
    "\"\"\" from sklearn.model_selection import GridSearchCV\n",
    "from sklearn.neural_network import MLPClassifier\n",
    "\n",
    "parameters = {\n",
    "    'hidden_layer_sizes': [(5,5,1), (6,6,1), (7,7,1), (8,8,1)],\n",
    "    'activation': ['logistic', 'tanh','relu'],\n",
    "    'solver': ['lbfgs', 'sgd','adam'],\n",
    "    #'batch_size': [25, 50, 75, 100],\n",
    "    #'epochs': [10, 20, 30],\n",
    "    'learning_rate': ['constant','adaptive'],\n",
    "}\n",
    "\n",
    "grid_search = GridSearchCV(MLPClassifier(max_iter=100), parameters, n_jobs=-1, cv=10, scoring = 'accuracy')\n",
    "grid_search.fit(X_train, y_train)\n",
    "\n",
    "best_accuracy = grid_search.best_score_\n",
    "best_parameters = grid_search.best_params_\n",
    "print(\"Best Accuracy: {:.2f} %\".format(best_accuracy*100))\n",
    "print(\"Best Parameters:\", best_parameters)\n",
    "\n",
    "\n",
    "########\n",
    "Best Accuracy: 98.20 %\n",
    "Best Parameters: {'activation': 'tanh', 'hidden_layer_sizes': (7, 7, 1), 'learning_rate': 'constant', 'solver': 'adam'} \"\"\""
   ]
  }
 ],
 "metadata": {
  "kernelspec": {
   "display_name": "Python 3",
   "language": "python",
   "name": "python3"
  },
  "language_info": {
   "codemirror_mode": {
    "name": "ipython",
    "version": 3
   },
   "file_extension": ".py",
   "mimetype": "text/x-python",
   "name": "python",
   "nbconvert_exporter": "python",
   "pygments_lexer": "ipython3",
   "version": "3.9.5"
  }
 },
 "nbformat": 4,
 "nbformat_minor": 2
}

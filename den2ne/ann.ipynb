{
 "cells": [
  {
   "cell_type": "code",
   "execution_count": 163,
   "metadata": {},
   "outputs": [],
   "source": [
    "import numpy as np\n",
    "import pandas as pd\n",
    "import tensorflow as tf\n",
    "from tensorflow import keras \n",
    "import glob as gl\n",
    "import os"
   ]
  },
  {
   "cell_type": "code",
   "execution_count": 164,
   "metadata": {},
   "outputs": [
    {
     "data": {
      "text/plain": [
       "overflow                            482760\n",
       "cap                                 482760\n",
       "load                                482760\n",
       "dist                                482760\n",
       "origen_id                           482760\n",
       "dest_id                             482760\n",
       "len_origen_tag                      482760\n",
       "len_dest_tag                        482760\n",
       "modelo                              482760\n",
       "criterion                           482760\n",
       "degree                              482760\n",
       "total_balance                       482760\n",
       "abs_flux                            482760\n",
       "timestamp                           482760\n",
       "datetime                            482760\n",
       "h                                   482760\n",
       "Beam Irradiance (W/m2)              482760\n",
       "Diffuse Irradiance (W/m2)           482760\n",
       "Ambient Temperature (C)             482760\n",
       "Plane of Array Irradiance (W/m2)    482760\n",
       "Cell Temperature (C)                482760\n",
       "DC Array Output (W)                 482760\n",
       "Pavg                                482760\n",
       "dif                                 482760\n",
       "dtype: int64"
      ]
     },
     "execution_count": 164,
     "metadata": {},
     "output_type": "execute_result"
    }
   ],
   "source": [
    "path = \"src/results\"\n",
    "\n",
    "\"\"\" datetime = \"/2011-03-24_15\"\n",
    "df = pd.read_csv(path + datetime + '.csv')  \"\"\"\n",
    "\n",
    "\n",
    "dfs = []\n",
    "\n",
    "for file in gl.glob(path + '/20*.csv'):\n",
    "    dfs.append(pd.read_csv(file))\n",
    "\n",
    "df = pd.concat(dfs, ignore_index=True)\n",
    "df.count() #cada csv tiene 160920 filas"
   ]
  },
  {
   "cell_type": "markdown",
   "metadata": {},
   "source": [
    "## Encoder"
   ]
  },
  {
   "cell_type": "code",
   "execution_count": 165,
   "metadata": {},
   "outputs": [],
   "source": [
    "modelo = df.iloc[:, 8].values \n",
    "from sklearn.preprocessing import LabelEncoder\n",
    "modelo = LabelEncoder().fit_transform(modelo) #codificación del modelo"
   ]
  },
  {
   "cell_type": "code",
   "execution_count": 166,
   "metadata": {},
   "outputs": [
    {
     "data": {
      "text/plain": [
       "Index(['cap', 'dist', 'origen_id', 'dest_id', 'len_origen_tag', 'len_dest_tag',\n",
       "       'criterion', 'degree', 'total_balance', 'abs_flux', 'h',\n",
       "       'Beam Irradiance (W/m2)', 'Diffuse Irradiance (W/m2)',\n",
       "       'Ambient Temperature (C)', 'Plane of Array Irradiance (W/m2)',\n",
       "       'Cell Temperature (C)', 'modelo'],\n",
       "      dtype='object')"
      ]
     },
     "execution_count": 166,
     "metadata": {},
     "output_type": "execute_result"
    }
   ],
   "source": [
    "df = df.drop(df.columns[8], axis=1) #se elimina la antigua con los strings del modelo\n",
    "df['modelo'] = modelo #se añade la nueva codificada al final\n",
    "\n",
    "X = df.iloc[:, 1:] \n",
    "X = X.drop(['datetime', 'timestamp', 'load', 'DC Array Output (W)' , 'Pavg', 'dif'], axis=1)\n",
    "y = df.iloc[:, 0].values #valores de overflow\n",
    "\n",
    "X.columns"
   ]
  },
  {
   "cell_type": "markdown",
   "metadata": {},
   "source": [
    "## ANN Model"
   ]
  },
  {
   "cell_type": "code",
   "execution_count": 167,
   "metadata": {},
   "outputs": [],
   "source": [
    "from sklearn.model_selection import train_test_split\n",
    "X_train, X_test, y_train, y_test = train_test_split(X, y, test_size = 0.2, random_state = 0)"
   ]
  },
  {
   "cell_type": "code",
   "execution_count": 168,
   "metadata": {},
   "outputs": [],
   "source": [
    "from sklearn.preprocessing import StandardScaler\n",
    "sc = StandardScaler()\n",
    "X_train = sc.fit_transform(X_train)\n",
    "X_test = sc.transform(X_test)"
   ]
  },
  {
   "cell_type": "code",
   "execution_count": 169,
   "metadata": {},
   "outputs": [],
   "source": [
    "model = keras.Sequential([\n",
    "    \n",
    "    #Adding the input layer and the first hidden layer\n",
    "    #se prueba con 6, los valores se obtienen probando o con alguna técnica como k Fold Cross Validation\n",
    "    keras.layers.Dense(6, input_shape=(X.shape[1],), activation='relu'), #nº de entradas\n",
    "    \n",
    "    #Adding the second hidden layer\n",
    "    #mismo valor que arriba\n",
    "    keras.layers.Dense(6, activation='relu'),\n",
    "    \n",
    "    #Adding the output layer -> 1 salida: 0 o 1\n",
    "    #*si no es salida binaria, se indica el número de posibles salidas y activation='softmax'\n",
    "    keras.layers.Dense(1, activation='sigmoid')\n",
    "])\n",
    "\n",
    "#model.summary() #resumen de la estructura de la red neuronal\n",
    "#los parámetros son los pesos"
   ]
  },
  {
   "cell_type": "code",
   "execution_count": 170,
   "metadata": {},
   "outputs": [],
   "source": [
    "#binary_crossentropy -> clasificación binaria (si/no)\n",
    "#*si no es salida binaria, se aplica categorical_crossentropy o sparse_categorical_crossentropy\n",
    "model.compile(optimizer = 'adam', loss = 'binary_crossentropy', metrics = ['accuracy'])"
   ]
  },
  {
   "cell_type": "code",
   "execution_count": 171,
   "metadata": {},
   "outputs": [
    {
     "name": "stdout",
     "output_type": "stream",
     "text": [
      "Epoch 1/8\n",
      "7725/7725 [==============================] - 15s 2ms/step - loss: 0.0915 - accuracy: 0.9746\n",
      "Epoch 2/8\n",
      "7725/7725 [==============================] - 14s 2ms/step - loss: 0.0676 - accuracy: 0.9805\n",
      "Epoch 3/8\n",
      "7725/7725 [==============================] - 14s 2ms/step - loss: 0.0631 - accuracy: 0.9810\n",
      "Epoch 4/8\n",
      "7725/7725 [==============================] - 14s 2ms/step - loss: 0.0607 - accuracy: 0.9814\n",
      "Epoch 5/8\n",
      "7725/7725 [==============================] - 16s 2ms/step - loss: 0.0603 - accuracy: 0.9816\n",
      "Epoch 6/8\n",
      "7725/7725 [==============================] - 16s 2ms/step - loss: 0.0602 - accuracy: 0.9815\n",
      "Epoch 7/8\n",
      "7725/7725 [==============================] - 17s 2ms/step - loss: 0.0601 - accuracy: 0.9816\n",
      "Epoch 8/8\n",
      "7725/7725 [==============================] - 18s 2ms/step - loss: 0.0601 - accuracy: 0.9817\n"
     ]
    },
    {
     "data": {
      "text/plain": [
       "<keras.src.callbacks.History at 0x20e1a329c70>"
      ]
     },
     "execution_count": 171,
     "metadata": {},
     "output_type": "execute_result"
    }
   ],
   "source": [
    "model.fit(X_train, y_train, batch_size = 50, epochs = 8)"
   ]
  },
  {
   "cell_type": "code",
   "execution_count": 172,
   "metadata": {},
   "outputs": [
    {
     "name": "stdout",
     "output_type": "stream",
     "text": [
      "3018/3018 [==============================] - 7s 2ms/step - loss: 0.0592 - accuracy: 0.9821\n"
     ]
    }
   ],
   "source": [
    "#se obtienen las pérdidas y la precisión del modelo\n",
    "test_loss, test_accuracy = model.evaluate(X_test, y_test)\n",
    "#si la precisión obtenida aquí es mucho menor que la de las épocas, se está sobreentrenando el modelo"
   ]
  },
  {
   "cell_type": "code",
   "execution_count": 173,
   "metadata": {},
   "outputs": [
    {
     "name": "stdout",
     "output_type": "stream",
     "text": [
      "3018/3018 [==============================] - 5s 2ms/step\n",
      "[[0 0]\n",
      " [0 1]\n",
      " [0 0]\n",
      " ...\n",
      " [0 0]\n",
      " [0 0]\n",
      " [0 0]]\n"
     ]
    }
   ],
   "source": [
    "y_pred = model.predict(X_test)\n",
    "y_pred = (y_pred > 0.5)\n",
    "\n",
    "#comparación entre las predicciones y el test\n",
    "print(np.concatenate((y_pred.reshape(len(y_pred),1), y_test.reshape(len(y_test),1)),1))"
   ]
  },
  {
   "cell_type": "code",
   "execution_count": 174,
   "metadata": {},
   "outputs": [
    {
     "name": "stdout",
     "output_type": "stream",
     "text": [
      "[[94563   122]\n",
      " [ 1607   260]]\n"
     ]
    },
    {
     "data": {
      "text/plain": [
       "0.9820925511641395"
      ]
     },
     "execution_count": 174,
     "metadata": {},
     "output_type": "execute_result"
    }
   ],
   "source": [
    "from sklearn.metrics import confusion_matrix, accuracy_score\n",
    "cm = confusion_matrix(y_test, y_pred)\n",
    "print(cm)\n",
    "accuracy_score(y_test, y_pred)"
   ]
  }
 ],
 "metadata": {
  "kernelspec": {
   "display_name": "Python 3",
   "language": "python",
   "name": "python3"
  },
  "language_info": {
   "codemirror_mode": {
    "name": "ipython",
    "version": 3
   },
   "file_extension": ".py",
   "mimetype": "text/x-python",
   "name": "python",
   "nbconvert_exporter": "python",
   "pygments_lexer": "ipython3",
   "version": "3.9.5"
  }
 },
 "nbformat": 4,
 "nbformat_minor": 2
}

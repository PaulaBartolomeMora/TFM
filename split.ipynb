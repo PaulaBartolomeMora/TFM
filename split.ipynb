{
 "cells": [
  {
   "cell_type": "code",
   "execution_count": 40,
   "metadata": {},
   "outputs": [],
   "source": [
    "import csv"
   ]
  },
  {
   "cell_type": "code",
   "execution_count": 41,
   "metadata": {},
   "outputs": [],
   "source": [
    "input_name = 'power_samples_d4_2'\n",
    "input_file = input_name + '.csv'\n",
    "split_size = 1000000\n",
    "\n",
    "current_split = 1\n",
    "current_row = 0\n",
    "output_file = None\n",
    "output_writer = None"
   ]
  },
  {
   "cell_type": "code",
   "execution_count": 42,
   "metadata": {},
   "outputs": [],
   "source": [
    "with open(input_file, 'r') as csvfile:\n",
    "    reader = csv.reader(csvfile)\n",
    "    header = next(reader)  \n",
    "\n",
    "    for row in reader:\n",
    "        if current_row % split_size == 0:\n",
    "            if output_file:\n",
    "                output_file.close()\n",
    "            output_split = f'split_{current_split}.csv'\n",
    "            output_filename = input_name + output_split\n",
    "            output_file = open(output_filename, 'w', newline='')\n",
    "            output_writer = csv.writer(output_file)\n",
    "            output_writer.writerow(header)\n",
    "            current_split += 1\n",
    "\n",
    "        output_writer.writerow(row)\n",
    "        current_row += 1\n",
    "\n",
    "# Close the last split file\n",
    "if output_file:\n",
    "    output_file.close()"
   ]
  }
 ],
 "metadata": {
  "kernelspec": {
   "display_name": "Python 3",
   "language": "python",
   "name": "python3"
  },
  "language_info": {
   "codemirror_mode": {
    "name": "ipython",
    "version": 3
   },
   "file_extension": ".py",
   "mimetype": "text/x-python",
   "name": "python",
   "nbconvert_exporter": "python",
   "pygments_lexer": "ipython3",
   "version": "3.11.4"
  }
 },
 "nbformat": 4,
 "nbformat_minor": 2
}

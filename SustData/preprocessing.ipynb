{
 "cells": [
  {
   "cell_type": "code",
   "execution_count": 13,
   "metadata": {},
   "outputs": [],
   "source": [
    "import pandas as pd\n",
    "from time import strptime"
   ]
  },
  {
   "cell_type": "markdown",
   "metadata": {},
   "source": [
    "Código de parseo timestamp \n",
    "    nuevas columnas -> datetime, hour (h,m,s)\n",
    "    \n",
    "Borrado datos NaN si fila completa vacía"
   ]
  },
  {
   "cell_type": "code",
   "execution_count": 14,
   "metadata": {},
   "outputs": [],
   "source": [
    "#dataset = 'dataset/no_preprocessed/power_samples_d4_2split_2.csv'\n",
    "dataset = 'NO/power_events/power_events_d2.csv'"
   ]
  },
  {
   "cell_type": "code",
   "execution_count": 15,
   "metadata": {},
   "outputs": [
    {
     "data": {
      "text/html": [
       "<div>\n",
       "<style scoped>\n",
       "    .dataframe tbody tr th:only-of-type {\n",
       "        vertical-align: middle;\n",
       "    }\n",
       "\n",
       "    .dataframe tbody tr th {\n",
       "        vertical-align: top;\n",
       "    }\n",
       "\n",
       "    .dataframe thead th {\n",
       "        text-align: right;\n",
       "    }\n",
       "</style>\n",
       "<table border=\"1\" class=\"dataframe\">\n",
       "  <thead>\n",
       "    <tr style=\"text-align: right;\">\n",
       "      <th></th>\n",
       "      <th>iid</th>\n",
       "      <th>tmstp</th>\n",
       "      <th>deploy</th>\n",
       "      <th>delta_P</th>\n",
       "      <th>delta_Q</th>\n",
       "      <th>trace_P</th>\n",
       "      <th>trace_Q</th>\n",
       "    </tr>\n",
       "  </thead>\n",
       "  <tbody>\n",
       "    <tr>\n",
       "      <th>0</th>\n",
       "      <td>1</td>\n",
       "      <td>2010-11-25 20:40:53</td>\n",
       "      <td>2</td>\n",
       "      <td>856.9</td>\n",
       "      <td>NaN</td>\n",
       "      <td>NaN</td>\n",
       "      <td>NaN</td>\n",
       "    </tr>\n",
       "    <tr>\n",
       "      <th>1</th>\n",
       "      <td>1</td>\n",
       "      <td>2010-11-25 20:44:17</td>\n",
       "      <td>2</td>\n",
       "      <td>790.0</td>\n",
       "      <td>NaN</td>\n",
       "      <td>NaN</td>\n",
       "      <td>NaN</td>\n",
       "    </tr>\n",
       "    <tr>\n",
       "      <th>2</th>\n",
       "      <td>1</td>\n",
       "      <td>2010-11-25 20:51:49</td>\n",
       "      <td>2</td>\n",
       "      <td>-103.7</td>\n",
       "      <td>NaN</td>\n",
       "      <td>NaN</td>\n",
       "      <td>NaN</td>\n",
       "    </tr>\n",
       "    <tr>\n",
       "      <th>3</th>\n",
       "      <td>1</td>\n",
       "      <td>2010-11-25 21:05:29</td>\n",
       "      <td>2</td>\n",
       "      <td>912.5</td>\n",
       "      <td>NaN</td>\n",
       "      <td>NaN</td>\n",
       "      <td>NaN</td>\n",
       "    </tr>\n",
       "    <tr>\n",
       "      <th>4</th>\n",
       "      <td>1</td>\n",
       "      <td>2010-11-25 21:12:52</td>\n",
       "      <td>2</td>\n",
       "      <td>-98.0</td>\n",
       "      <td>NaN</td>\n",
       "      <td>NaN</td>\n",
       "      <td>NaN</td>\n",
       "    </tr>\n",
       "  </tbody>\n",
       "</table>\n",
       "</div>"
      ],
      "text/plain": [
       "   iid                tmstp  deploy  delta_P  delta_Q  trace_P  trace_Q\n",
       "0    1  2010-11-25 20:40:53       2    856.9      NaN      NaN      NaN\n",
       "1    1  2010-11-25 20:44:17       2    790.0      NaN      NaN      NaN\n",
       "2    1  2010-11-25 20:51:49       2   -103.7      NaN      NaN      NaN\n",
       "3    1  2010-11-25 21:05:29       2    912.5      NaN      NaN      NaN\n",
       "4    1  2010-11-25 21:12:52       2    -98.0      NaN      NaN      NaN"
      ]
     },
     "execution_count": 15,
     "metadata": {},
     "output_type": "execute_result"
    }
   ],
   "source": [
    "df = pd.read_csv(dataset)\n",
    "df.head()"
   ]
  },
  {
   "cell_type": "code",
   "execution_count": 16,
   "metadata": {},
   "outputs": [
    {
     "data": {
      "text/plain": [
       "iid        6485017\n",
       "tmstp      6485017\n",
       "deploy     6485017\n",
       "delta_P    6485017\n",
       "delta_Q          0\n",
       "trace_P          0\n",
       "trace_Q          0\n",
       "dtype: int64"
      ]
     },
     "execution_count": 16,
     "metadata": {},
     "output_type": "execute_result"
    }
   ],
   "source": [
    "df.count()"
   ]
  },
  {
   "cell_type": "markdown",
   "metadata": {},
   "source": [
    "### Timestamp processing"
   ]
  },
  {
   "cell_type": "code",
   "execution_count": 17,
   "metadata": {},
   "outputs": [
    {
     "data": {
      "text/html": [
       "<div>\n",
       "<style scoped>\n",
       "    .dataframe tbody tr th:only-of-type {\n",
       "        vertical-align: middle;\n",
       "    }\n",
       "\n",
       "    .dataframe tbody tr th {\n",
       "        vertical-align: top;\n",
       "    }\n",
       "\n",
       "    .dataframe thead th {\n",
       "        text-align: right;\n",
       "    }\n",
       "</style>\n",
       "<table border=\"1\" class=\"dataframe\">\n",
       "  <thead>\n",
       "    <tr style=\"text-align: right;\">\n",
       "      <th></th>\n",
       "      <th>iid</th>\n",
       "      <th>tmstp</th>\n",
       "      <th>deploy</th>\n",
       "      <th>delta_P</th>\n",
       "      <th>delta_Q</th>\n",
       "      <th>trace_P</th>\n",
       "      <th>trace_Q</th>\n",
       "      <th>datetime</th>\n",
       "      <th>hour</th>\n",
       "    </tr>\n",
       "  </thead>\n",
       "  <tbody>\n",
       "    <tr>\n",
       "      <th>0</th>\n",
       "      <td>1</td>\n",
       "      <td>2010-11-25 20:40:53</td>\n",
       "      <td>2</td>\n",
       "      <td>856.9</td>\n",
       "      <td>NaN</td>\n",
       "      <td>NaN</td>\n",
       "      <td>NaN</td>\n",
       "      <td>2010-11-25</td>\n",
       "      <td>20:40:53</td>\n",
       "    </tr>\n",
       "    <tr>\n",
       "      <th>1</th>\n",
       "      <td>1</td>\n",
       "      <td>2010-11-25 20:44:17</td>\n",
       "      <td>2</td>\n",
       "      <td>790.0</td>\n",
       "      <td>NaN</td>\n",
       "      <td>NaN</td>\n",
       "      <td>NaN</td>\n",
       "      <td>2010-11-25</td>\n",
       "      <td>20:44:17</td>\n",
       "    </tr>\n",
       "    <tr>\n",
       "      <th>2</th>\n",
       "      <td>1</td>\n",
       "      <td>2010-11-25 20:51:49</td>\n",
       "      <td>2</td>\n",
       "      <td>-103.7</td>\n",
       "      <td>NaN</td>\n",
       "      <td>NaN</td>\n",
       "      <td>NaN</td>\n",
       "      <td>2010-11-25</td>\n",
       "      <td>20:51:49</td>\n",
       "    </tr>\n",
       "    <tr>\n",
       "      <th>3</th>\n",
       "      <td>1</td>\n",
       "      <td>2010-11-25 21:05:29</td>\n",
       "      <td>2</td>\n",
       "      <td>912.5</td>\n",
       "      <td>NaN</td>\n",
       "      <td>NaN</td>\n",
       "      <td>NaN</td>\n",
       "      <td>2010-11-25</td>\n",
       "      <td>21:05:29</td>\n",
       "    </tr>\n",
       "    <tr>\n",
       "      <th>4</th>\n",
       "      <td>1</td>\n",
       "      <td>2010-11-25 21:12:52</td>\n",
       "      <td>2</td>\n",
       "      <td>-98.0</td>\n",
       "      <td>NaN</td>\n",
       "      <td>NaN</td>\n",
       "      <td>NaN</td>\n",
       "      <td>2010-11-25</td>\n",
       "      <td>21:12:52</td>\n",
       "    </tr>\n",
       "    <tr>\n",
       "      <th>5</th>\n",
       "      <td>1</td>\n",
       "      <td>2010-11-25 21:14:00</td>\n",
       "      <td>2</td>\n",
       "      <td>-96.6</td>\n",
       "      <td>NaN</td>\n",
       "      <td>NaN</td>\n",
       "      <td>NaN</td>\n",
       "      <td>2010-11-25</td>\n",
       "      <td>21:14:00</td>\n",
       "    </tr>\n",
       "    <tr>\n",
       "      <th>6</th>\n",
       "      <td>1</td>\n",
       "      <td>2010-11-25 21:16:13</td>\n",
       "      <td>2</td>\n",
       "      <td>1491.5</td>\n",
       "      <td>NaN</td>\n",
       "      <td>NaN</td>\n",
       "      <td>NaN</td>\n",
       "      <td>2010-11-25</td>\n",
       "      <td>21:16:13</td>\n",
       "    </tr>\n",
       "    <tr>\n",
       "      <th>7</th>\n",
       "      <td>1</td>\n",
       "      <td>2010-11-25 21:19:16</td>\n",
       "      <td>2</td>\n",
       "      <td>-1357.1</td>\n",
       "      <td>NaN</td>\n",
       "      <td>NaN</td>\n",
       "      <td>NaN</td>\n",
       "      <td>2010-11-25</td>\n",
       "      <td>21:19:16</td>\n",
       "    </tr>\n",
       "    <tr>\n",
       "      <th>8</th>\n",
       "      <td>1</td>\n",
       "      <td>2010-11-25 21:26:32</td>\n",
       "      <td>2</td>\n",
       "      <td>777.1</td>\n",
       "      <td>NaN</td>\n",
       "      <td>NaN</td>\n",
       "      <td>NaN</td>\n",
       "      <td>2010-11-25</td>\n",
       "      <td>21:26:32</td>\n",
       "    </tr>\n",
       "    <tr>\n",
       "      <th>9</th>\n",
       "      <td>1</td>\n",
       "      <td>2010-11-25 21:34:36</td>\n",
       "      <td>2</td>\n",
       "      <td>-96.4</td>\n",
       "      <td>NaN</td>\n",
       "      <td>NaN</td>\n",
       "      <td>NaN</td>\n",
       "      <td>2010-11-25</td>\n",
       "      <td>21:34:36</td>\n",
       "    </tr>\n",
       "  </tbody>\n",
       "</table>\n",
       "</div>"
      ],
      "text/plain": [
       "   iid               tmstp  deploy  delta_P  delta_Q  trace_P  trace_Q  \\\n",
       "0    1 2010-11-25 20:40:53       2    856.9      NaN      NaN      NaN   \n",
       "1    1 2010-11-25 20:44:17       2    790.0      NaN      NaN      NaN   \n",
       "2    1 2010-11-25 20:51:49       2   -103.7      NaN      NaN      NaN   \n",
       "3    1 2010-11-25 21:05:29       2    912.5      NaN      NaN      NaN   \n",
       "4    1 2010-11-25 21:12:52       2    -98.0      NaN      NaN      NaN   \n",
       "5    1 2010-11-25 21:14:00       2    -96.6      NaN      NaN      NaN   \n",
       "6    1 2010-11-25 21:16:13       2   1491.5      NaN      NaN      NaN   \n",
       "7    1 2010-11-25 21:19:16       2  -1357.1      NaN      NaN      NaN   \n",
       "8    1 2010-11-25 21:26:32       2    777.1      NaN      NaN      NaN   \n",
       "9    1 2010-11-25 21:34:36       2    -96.4      NaN      NaN      NaN   \n",
       "\n",
       "     datetime      hour  \n",
       "0  2010-11-25  20:40:53  \n",
       "1  2010-11-25  20:44:17  \n",
       "2  2010-11-25  20:51:49  \n",
       "3  2010-11-25  21:05:29  \n",
       "4  2010-11-25  21:12:52  \n",
       "5  2010-11-25  21:14:00  \n",
       "6  2010-11-25  21:16:13  \n",
       "7  2010-11-25  21:19:16  \n",
       "8  2010-11-25  21:26:32  \n",
       "9  2010-11-25  21:34:36  "
      ]
     },
     "execution_count": 17,
     "metadata": {},
     "output_type": "execute_result"
    }
   ],
   "source": [
    "df['tmstp'] = pd.to_datetime(df['tmstp'])\n",
    "df['datetime'] = df['tmstp'].dt.strftime('%Y-%m-%d')\n",
    "df['hour'] = df['tmstp'].dt.strftime('%H:%M:%S')\n",
    "\n",
    "df.head(10)"
   ]
  },
  {
   "cell_type": "code",
   "execution_count": 18,
   "metadata": {},
   "outputs": [
    {
     "data": {
      "text/plain": [
       "iid         6485017\n",
       "tmstp       6485017\n",
       "deploy      6485017\n",
       "delta_P     6485017\n",
       "delta_Q           0\n",
       "trace_P           0\n",
       "trace_Q           0\n",
       "datetime    6485017\n",
       "hour        6485017\n",
       "dtype: int64"
      ]
     },
     "execution_count": 18,
     "metadata": {},
     "output_type": "execute_result"
    }
   ],
   "source": [
    "df.count()"
   ]
  },
  {
   "cell_type": "markdown",
   "metadata": {},
   "source": [
    "### Drop NaN"
   ]
  },
  {
   "cell_type": "code",
   "execution_count": 19,
   "metadata": {},
   "outputs": [
    {
     "data": {
      "text/plain": [
       "iid         False\n",
       "tmstp       False\n",
       "deploy      False\n",
       "delta_P     False\n",
       "delta_Q      True\n",
       "trace_P      True\n",
       "trace_Q      True\n",
       "datetime    False\n",
       "hour        False\n",
       "dtype: bool"
      ]
     },
     "execution_count": 19,
     "metadata": {},
     "output_type": "execute_result"
    }
   ],
   "source": [
    "df.isnull().any() #15 parámetros"
   ]
  },
  {
   "cell_type": "code",
   "execution_count": 20,
   "metadata": {},
   "outputs": [
    {
     "data": {
      "text/plain": [
       "iid         False\n",
       "tmstp       False\n",
       "deploy      False\n",
       "delta_P     False\n",
       "delta_Q      True\n",
       "trace_P      True\n",
       "trace_Q      True\n",
       "datetime    False\n",
       "hour        False\n",
       "dtype: bool"
      ]
     },
     "execution_count": 20,
     "metadata": {},
     "output_type": "execute_result"
    }
   ],
   "source": [
    "#df = df.dropna() #se eliminan las filas null\n",
    "df = df.dropna(thresh=len(df.columns) - 15 + 1) #drop fila si parámetros = NaN (15)\n",
    "df.isnull().any() "
   ]
  },
  {
   "cell_type": "code",
   "execution_count": 21,
   "metadata": {},
   "outputs": [],
   "source": [
    "# filtro_NAN = df['miss_flag'] == 0\n",
    "# df[filtro_NAN].head() "
   ]
  },
  {
   "cell_type": "code",
   "execution_count": 22,
   "metadata": {},
   "outputs": [
    {
     "data": {
      "text/html": [
       "<div>\n",
       "<style scoped>\n",
       "    .dataframe tbody tr th:only-of-type {\n",
       "        vertical-align: middle;\n",
       "    }\n",
       "\n",
       "    .dataframe tbody tr th {\n",
       "        vertical-align: top;\n",
       "    }\n",
       "\n",
       "    .dataframe thead th {\n",
       "        text-align: right;\n",
       "    }\n",
       "</style>\n",
       "<table border=\"1\" class=\"dataframe\">\n",
       "  <thead>\n",
       "    <tr style=\"text-align: right;\">\n",
       "      <th></th>\n",
       "      <th>iid</th>\n",
       "      <th>tmstp</th>\n",
       "      <th>deploy</th>\n",
       "      <th>delta_P</th>\n",
       "      <th>delta_Q</th>\n",
       "      <th>trace_P</th>\n",
       "      <th>trace_Q</th>\n",
       "      <th>datetime</th>\n",
       "      <th>hour</th>\n",
       "    </tr>\n",
       "  </thead>\n",
       "  <tbody>\n",
       "    <tr>\n",
       "      <th>0</th>\n",
       "      <td>1</td>\n",
       "      <td>2010-11-25 20:40:53</td>\n",
       "      <td>2</td>\n",
       "      <td>856.9</td>\n",
       "      <td>NaN</td>\n",
       "      <td>NaN</td>\n",
       "      <td>NaN</td>\n",
       "      <td>2010-11-25</td>\n",
       "      <td>20:40:53</td>\n",
       "    </tr>\n",
       "    <tr>\n",
       "      <th>1</th>\n",
       "      <td>1</td>\n",
       "      <td>2010-11-25 20:44:17</td>\n",
       "      <td>2</td>\n",
       "      <td>790.0</td>\n",
       "      <td>NaN</td>\n",
       "      <td>NaN</td>\n",
       "      <td>NaN</td>\n",
       "      <td>2010-11-25</td>\n",
       "      <td>20:44:17</td>\n",
       "    </tr>\n",
       "    <tr>\n",
       "      <th>2</th>\n",
       "      <td>1</td>\n",
       "      <td>2010-11-25 20:51:49</td>\n",
       "      <td>2</td>\n",
       "      <td>-103.7</td>\n",
       "      <td>NaN</td>\n",
       "      <td>NaN</td>\n",
       "      <td>NaN</td>\n",
       "      <td>2010-11-25</td>\n",
       "      <td>20:51:49</td>\n",
       "    </tr>\n",
       "    <tr>\n",
       "      <th>3</th>\n",
       "      <td>1</td>\n",
       "      <td>2010-11-25 21:05:29</td>\n",
       "      <td>2</td>\n",
       "      <td>912.5</td>\n",
       "      <td>NaN</td>\n",
       "      <td>NaN</td>\n",
       "      <td>NaN</td>\n",
       "      <td>2010-11-25</td>\n",
       "      <td>21:05:29</td>\n",
       "    </tr>\n",
       "    <tr>\n",
       "      <th>4</th>\n",
       "      <td>1</td>\n",
       "      <td>2010-11-25 21:12:52</td>\n",
       "      <td>2</td>\n",
       "      <td>-98.0</td>\n",
       "      <td>NaN</td>\n",
       "      <td>NaN</td>\n",
       "      <td>NaN</td>\n",
       "      <td>2010-11-25</td>\n",
       "      <td>21:12:52</td>\n",
       "    </tr>\n",
       "  </tbody>\n",
       "</table>\n",
       "</div>"
      ],
      "text/plain": [
       "   iid               tmstp  deploy  delta_P  delta_Q  trace_P  trace_Q  \\\n",
       "0    1 2010-11-25 20:40:53       2    856.9      NaN      NaN      NaN   \n",
       "1    1 2010-11-25 20:44:17       2    790.0      NaN      NaN      NaN   \n",
       "2    1 2010-11-25 20:51:49       2   -103.7      NaN      NaN      NaN   \n",
       "3    1 2010-11-25 21:05:29       2    912.5      NaN      NaN      NaN   \n",
       "4    1 2010-11-25 21:12:52       2    -98.0      NaN      NaN      NaN   \n",
       "\n",
       "     datetime      hour  \n",
       "0  2010-11-25  20:40:53  \n",
       "1  2010-11-25  20:44:17  \n",
       "2  2010-11-25  20:51:49  \n",
       "3  2010-11-25  21:05:29  \n",
       "4  2010-11-25  21:12:52  "
      ]
     },
     "execution_count": 22,
     "metadata": {},
     "output_type": "execute_result"
    }
   ],
   "source": [
    "df.head()"
   ]
  },
  {
   "cell_type": "code",
   "execution_count": 23,
   "metadata": {},
   "outputs": [
    {
     "data": {
      "text/plain": [
       "iid         6485017\n",
       "tmstp       6485017\n",
       "deploy      6485017\n",
       "delta_P     6485017\n",
       "delta_Q           0\n",
       "trace_P           0\n",
       "trace_Q           0\n",
       "datetime    6485017\n",
       "hour        6485017\n",
       "dtype: int64"
      ]
     },
     "execution_count": 23,
     "metadata": {},
     "output_type": "execute_result"
    }
   ],
   "source": [
    "df.count()"
   ]
  },
  {
   "cell_type": "code",
   "execution_count": 24,
   "metadata": {},
   "outputs": [],
   "source": [
    "#fich_out = \"dataset/preprocessed/new_\" + dataset\n",
    "fich_out = dataset\n",
    "df.to_csv(fich_out, index=False)"
   ]
  }
 ],
 "metadata": {
  "kernelspec": {
   "display_name": "Python 3",
   "language": "python",
   "name": "python3"
  },
  "language_info": {
   "codemirror_mode": {
    "name": "ipython",
    "version": 3
   },
   "file_extension": ".py",
   "mimetype": "text/x-python",
   "name": "python",
   "nbconvert_exporter": "python",
   "pygments_lexer": "ipython3",
   "version": "3.9.5"
  }
 },
 "nbformat": 4,
 "nbformat_minor": 2
}
